{
 "cells": [
  {
   "cell_type": "markdown",
   "metadata": {},
   "source": [
    "## Import Library & files"
   ]
  },
  {
   "cell_type": "code",
   "execution_count": 1,
   "metadata": {},
   "outputs": [],
   "source": [
    "import warnings\n",
    "\n",
    "warnings.filterwarnings(\"ignore\")"
   ]
  },
  {
   "cell_type": "code",
   "execution_count": 2,
   "metadata": {},
   "outputs": [],
   "source": [
    "from dataclasses import dataclass\n",
    "import numpy as np\n",
    "import polars as pl\n",
    "import pandas as pd\n",
    "import matplotlib.pyplot as plt\n",
    "from numpy import random as rd\n",
    "from dtaidistance import dtw\n",
    "from dtaidistance.clustering import KMedoids\n",
    "from pyclustering.cluster.kmedoids import kmedoids\n",
    "from pyclustering.cluster.kmeans import kmeans\n",
    "from sklearn.metrics.cluster import adjusted_rand_score\n",
    "from tqdm import tqdm\n",
    "from pyclustering.cluster.center_initializer import kmeans_plusplus_initializer"
   ]
  },
  {
   "cell_type": "code",
   "execution_count": 3,
   "metadata": {},
   "outputs": [],
   "source": [
    "from tools import generate_k_factor_data, generate_true_lag_data\n",
    "from tools import ClusteringArgs\n",
    "from tools import DistArgs\n",
    "from tools import compute_clusters_from_dist_matrix"
   ]
  },
  {
   "cell_type": "code",
   "execution_count": 4,
   "metadata": {},
   "outputs": [],
   "source": [
    "%load_ext autoreload\n",
    "%autoreload 2\n",
    "%matplotlib inline"
   ]
  },
  {
   "cell_type": "markdown",
   "metadata": {},
   "source": [
    "# Research"
   ]
  },
  {
   "cell_type": "code",
   "execution_count": 6,
   "metadata": {},
   "outputs": [],
   "source": [
    "n_factors = 2\n",
    "n_points = 20"
   ]
  },
  {
   "cell_type": "code",
   "execution_count": 26,
   "metadata": {},
   "outputs": [],
   "source": [
    "factors = rd.normal(0, 1, size=(n_factors, n_points))\n",
    "beta = [[0.5, 0.5], [0.5, 0.5]]\n",
    "lag = [[0, 0], [5, 2]]"
   ]
  },
  {
   "cell_type": "code",
   "execution_count": 27,
   "metadata": {},
   "outputs": [],
   "source": [
    "assets = [\n",
    "    beta[i][0] * np.roll(factors[0], lag[i][0])\n",
    "    + beta[i][1] * np.roll(factors[1], lag[i][1])\n",
    "    for i in range(len(beta))\n",
    "]"
   ]
  },
  {
   "cell_type": "code",
   "execution_count": 28,
   "metadata": {},
   "outputs": [
    {
     "data": {
      "text/plain": [
       "[array([-0.50482491,  0.03781962,  0.3485777 , -0.19362642, -0.15680947,\n",
       "        -0.68279937,  0.2228924 ,  0.76702865,  1.34846349, -0.13783466,\n",
       "         0.77172055, -1.16257201, -2.22648218, -0.21147642, -0.08152653,\n",
       "         0.67296111, -2.49406654, -0.15035621, -0.00737283,  0.13755622]),\n",
       " array([ 0.62026219, -0.09406597,  0.21479328, -0.51493894, -0.79461007,\n",
       "        -0.06796965, -0.20291353,  0.34926544,  0.04106608,  0.26865329,\n",
       "         0.49907504, -0.33050897,  2.00719928, -0.64267472, -0.98761166,\n",
       "        -0.48854216, -0.57282213, -0.7185851 , -1.92815769, -0.35964181])]"
      ]
     },
     "execution_count": 28,
     "metadata": {},
     "output_type": "execute_result"
    }
   ],
   "source": [
    "assets"
   ]
  },
  {
   "cell_type": "code",
   "execution_count": null,
   "metadata": {},
   "outputs": [],
   "source": []
  }
 ],
 "metadata": {
  "kernelspec": {
   "display_name": "base",
   "language": "python",
   "name": "python3"
  },
  "language_info": {
   "codemirror_mode": {
    "name": "ipython",
    "version": 3
   },
   "file_extension": ".py",
   "mimetype": "text/x-python",
   "name": "python",
   "nbconvert_exporter": "python",
   "pygments_lexer": "ipython3",
   "version": "3.11.5"
  }
 },
 "nbformat": 4,
 "nbformat_minor": 2
}
